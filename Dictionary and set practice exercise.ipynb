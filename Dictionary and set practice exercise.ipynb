{
 "cells": [
  {
   "cell_type": "code",
   "execution_count": null,
   "id": "c8ebdde3",
   "metadata": {},
   "outputs": [],
   "source": [
    "# Basic Eexercise of Dictionay and Set.\n"
   ]
  },
  {
   "cell_type": "code",
   "execution_count": 1,
   "id": "9e6b8d00",
   "metadata": {},
   "outputs": [
    {
     "name": "stdout",
     "output_type": "stream",
     "text": [
      "options are  dict_keys(['Pankha', 'Takia', 'Vastu'])\n",
      "Enter a HindiwordPankha\n",
      "Enter a word Fan\n"
     ]
    }
   ],
   "source": [
    "#Question 1 -  Write a program to create a  dictionary of hindi word with values as their english translation. provide the user\n",
    "#              with an option to look it up!\n",
    "\n",
    "\n",
    "#Soltion-- USE= .get funtion to stop  \n",
    "\n",
    "\n",
    "my_dict={\"Pankha\":\"Fan\",\"Takia\":\"Pillow\",\"Vastu\":\"Pen\"}\n",
    "print(\"options are \", my_dict.keys())\n",
    "a=input(\"Enter a Hindiword\")\n",
    "print(\"Enter a word\",my_dict[a])"
   ]
  },
  {
   "cell_type": "code",
   "execution_count": 3,
   "id": "a7ac725d",
   "metadata": {},
   "outputs": [
    {
     "name": "stdout",
     "output_type": "stream",
     "text": [
      "Enter a number7\n",
      "Enter a number8\n",
      "Enter a number9\n",
      "Enter a number7\n",
      "Enter a number8\n",
      "Enter a number9\n",
      "{8, 9, 7}\n"
     ]
    }
   ],
   "source": [
    "#Question 2 - Write a program to input 8 numbers from the user  and display all the unique numbers (once) !\n",
    "\n",
    "\n",
    "#Solutin- \n",
    "\n",
    "\n",
    "n1=int(input(\"Enter a number\"))\n",
    "n2=int(input(\"Enter a number\"))\n",
    "n3=int(input(\"Enter a number\"))\n",
    "n4=int(input(\"Enter a number\"))\n",
    "n5=int(input(\"Enter a number\"))\n",
    "n6=int(input(\"Enter a number\"))\n",
    "\n",
    "numbers={n1,n2,n3,n4,n5,n6}\n",
    "print(numbers)\n"
   ]
  },
  {
   "cell_type": "code",
   "execution_count": 4,
   "id": "430ca336",
   "metadata": {},
   "outputs": [],
   "source": [
    "# Question 3 - Can we have a set with 18(int) and \"18\"(str) as a value in it?\n",
    "\n",
    "#Solution-\n",
    "\n",
    "\n",
    "s1={18,\"18\"}"
   ]
  },
  {
   "cell_type": "code",
   "execution_count": 5,
   "id": "b28ee7e7",
   "metadata": {},
   "outputs": [
    {
     "data": {
      "text/plain": [
       "{18, '18'}"
      ]
     },
     "execution_count": 5,
     "metadata": {},
     "output_type": "execute_result"
    }
   ],
   "source": [
    "s1\n",
    "\n",
    "\n",
    "\n",
    "# yes it would be print because one is integer and one is string., this reason for we can write a same numbers.."
   ]
  },
  {
   "cell_type": "code",
   "execution_count": 6,
   "id": "d1b248b2",
   "metadata": {},
   "outputs": [],
   "source": [
    "# Question -  What will be the length  of following !\n",
    "#sets:  s=set()\n",
    "#       s.add(20)\n",
    "#       s.add(20.0)\n",
    "#       s.add(\"20\") what will be the length of S\n",
    "\n",
    "\n",
    "\n",
    "#Solution-\n",
    "\n",
    "\n",
    "\n",
    "s={20,20.0,\"20\"}"
   ]
  },
  {
   "cell_type": "code",
   "execution_count": 7,
   "id": "87a5adc2",
   "metadata": {},
   "outputs": [],
   "source": [
    "#Question 5- s={} what is the type of s?\n",
    "\n",
    "#Solution\n",
    "\n",
    "s={}  #Is Dictionary, because set contain s=()\n"
   ]
  },
  {
   "cell_type": "code",
   "execution_count": 12,
   "id": "1ca8c845",
   "metadata": {},
   "outputs": [
    {
     "name": "stdout",
     "output_type": "stream",
     "text": [
      "Enter Your Favorite language Rohit \n",
      "Pyhton\n",
      "Enter Your Favorite language Yashu \n",
      "C\n",
      "Enter Your Favorite language Munumun \n",
      "c+\n",
      "Enter Your Favorite language Riya \n",
      "Pyhton\n",
      "{'Rohit': 'Pyhton', 'Yashu': 'C', 'Munumn': 'c+', 'Riya': 'Pyhton'}\n"
     ]
    }
   ],
   "source": [
    "#Question 6 - Create an empty dictionary,allow 4 friends to enter the favorite language as values and use keys as their name,\n",
    "#             assume that the  names are unique.\n",
    "\n",
    "\n",
    "\n",
    "#Solution-\n",
    "\n",
    "dict={}\n",
    "l1=input(\"Enter Your Favorite language Rohit \\n\")\n",
    "l2=input(\"Enter Your Favorite language Yashu \\n\")\n",
    "l3=input(\"Enter Your Favorite language Munumun \\n\")\n",
    "l4=input(\"Enter Your Favorite language Riya \\n\")\n",
    "\n",
    "dict[\"Rohit\"]=l1\n",
    "dict[\"Yashu\"]=l2\n",
    "dict[\"Munumn\"]=l3\n",
    "dict[\"Riya\"]=l4\n",
    "print(dict)\n"
   ]
  },
  {
   "cell_type": "code",
   "execution_count": 15,
   "id": "0840f12a",
   "metadata": {},
   "outputs": [
    {
     "name": "stdout",
     "output_type": "stream",
     "text": [
      "Enter Your Favorite language Rohit \n",
      "Python\n",
      "Enter Your Favorite language Yashu \n",
      "C++\n",
      "Enter Your Favorite language Munumun \n",
      "Java\n",
      "Enter Your Favorite language Riya \n",
      "Python\n",
      "{'Rohit': 'Python', 'Yashu': 'C++', 'Munumn': 'Java', 'Riya': 'Python'}\n"
     ]
    }
   ],
   "source": [
    "#Question 7-  If the name of 2 friends are the same , what will happen to the program in program 6!!\n",
    "#            (Nothing will change if 2 names are common)\n",
    "\n",
    "\n",
    "\n",
    "\n",
    "\n",
    "#Solution-\n",
    "\n",
    "dict={}\n",
    "l1=input(\"Enter Your Favorite language Rohit \\n\")\n",
    "l2=input(\"Enter Your Favorite language Yashu \\n\")\n",
    "l3=input(\"Enter Your Favorite language Munumun \\n\")\n",
    "l4=input(\"Enter Your Favorite language Riya \\n\")\n",
    "\n",
    "dict[\"Rohit\"]=l1\n",
    "dict[\"Yashu\"]=l2\n",
    "dict[\"Munumn\"]=l3\n",
    "dict[\"Riya\"]=l4\n",
    "print(dict)\n",
    "\n",
    "\n"
   ]
  },
  {
   "cell_type": "code",
   "execution_count": 18,
   "id": "87e96414",
   "metadata": {},
   "outputs": [
    {
     "name": "stdout",
     "output_type": "stream",
     "text": [
      "Enter Your Favorite language Rohit \n",
      "C++\n",
      "Enter Your Favorite language Yashu \n",
      "Python\n",
      "Enter Your Favorite language Yashu \n",
      "Python\n",
      "Enter Your Favorite language Riya \n",
      "Java\n",
      "{'Rohit': 'C++', 'Yashu': 'Python', 'Riya': 'Java'}\n"
     ]
    }
   ],
   "source": [
    "# Question 8 - If the language of two friends are in same : what will happen to the program in program 6..\n",
    "#              (Nothing will change)\n",
    "\n",
    "\n",
    "\n",
    "# Solution\n",
    "\n",
    "\n",
    "dict={}\n",
    "l1=input(\"Enter Your Favorite language Rohit \\n\")\n",
    "l2=input(\"Enter Your Favorite language Yashu \\n\")\n",
    "l3=input(\"Enter Your Favorite language Yashu \\n\")\n",
    "l4=input(\"Enter Your Favorite language Riya \\n\")\n",
    "\n",
    "dict[\"Rohit\"]=l1\n",
    "dict[\"Yashu\"]=l2\n",
    "dict[\"Yashu\"]=l3\n",
    "dict[\"Riya\"]=l4\n",
    "print(dict)\n",
    "\n"
   ]
  },
  {
   "cell_type": "code",
   "execution_count": null,
   "id": "769b3db6",
   "metadata": {},
   "outputs": [],
   "source": [
    "#I have to tell you some thing. you know what  is .get method..\n",
    "#if you entered wrong input then python will show error if we dont want error the we have to use \".get\" method ,see below cell\n",
    "#in question 1"
   ]
  },
  {
   "cell_type": "code",
   "execution_count": 20,
   "id": "bc709445",
   "metadata": {},
   "outputs": [
    {
     "name": "stdout",
     "output_type": "stream",
     "text": [
      "options are  dict_keys(['Pankha', 'Takia', 'Vastu'])\n",
      "Enter a Hindiword  \n",
      "Ramesh\n",
      "Enter a word None\n"
     ]
    }
   ],
   "source": [
    "#EX- 1 -  Write a program to create a  dictionary of hindi word with values as their english translation. provide the user\n",
    "#              with an option to look it up!\n",
    "\n",
    "\n",
    "#Soltion-- USE= .get funtion to stop  \n",
    "\n",
    "\n",
    "my_dict={\"Pankha\":\"Fan\",\"Takia\":\"Pillow\",\"Vastu\":\"Pen\"}\n",
    "print(\"options are \", my_dict.keys())\n",
    "a=input(\"Enter a Hindiword  \\n\")\n",
    "print(\"Enter a word\",my_dict.get(a))"
   ]
  },
  {
   "cell_type": "code",
   "execution_count": 21,
   "id": "a1f49310",
   "metadata": {},
   "outputs": [],
   "source": [
    "#Lets se we entered wrong input , then python what showing is none. \n",
    "#why its showing none because we use .get method..\n",
    "#i think you understand."
   ]
  },
  {
   "cell_type": "code",
   "execution_count": 24,
   "id": "b0755332",
   "metadata": {},
   "outputs": [
    {
     "ename": "IndentationError",
     "evalue": "unexpected indent (1457634215.py, line 7)",
     "output_type": "error",
     "traceback": [
      "\u001b[1;36m  Input \u001b[1;32mIn [24]\u001b[1;36m\u001b[0m\n\u001b[1;33m    s={8,7,12,'Saurav'[1,2]}\u001b[0m\n\u001b[1;37m    ^\u001b[0m\n\u001b[1;31mIndentationError\u001b[0m\u001b[1;31m:\u001b[0m unexpected indent\n"
     ]
    }
   ],
   "source": [
    "#Question 7- Can you change the value inside list which is contained is set s.\n",
    "#            s={8,7,12,'Saurav',[1,2]}\n",
    "\n",
    "\n",
    "#Solution\n",
    "\n",
    " s={8,7,12,'Saurav'[1,2]} #No its not change "
   ]
  },
  {
   "cell_type": "code",
   "execution_count": null,
   "id": "3b5f455c",
   "metadata": {},
   "outputs": [],
   "source": [
    "#Student of Data science\n",
    "#Student of DataTrained - Saurav\n",
    "\n",
    "# Data- 18 june 2022"
   ]
  }
 ],
 "metadata": {
  "kernelspec": {
   "display_name": "Python 3 (ipykernel)",
   "language": "python",
   "name": "python3"
  },
  "language_info": {
   "codemirror_mode": {
    "name": "ipython",
    "version": 3
   },
   "file_extension": ".py",
   "mimetype": "text/x-python",
   "name": "python",
   "nbconvert_exporter": "python",
   "pygments_lexer": "ipython3",
   "version": "3.9.12"
  }
 },
 "nbformat": 4,
 "nbformat_minor": 5
}
